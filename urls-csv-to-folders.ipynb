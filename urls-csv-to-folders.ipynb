{
 "cells": [
  {
   "cell_type": "code",
   "execution_count": 1,
   "metadata": {
    "ExecuteTime": {
     "end_time": "2020-01-03T05:33:37.264472Z",
     "start_time": "2020-01-03T05:33:37.028467Z"
    }
   },
   "outputs": [],
   "source": [
    "%reload_ext autoreload\n",
    "%autoreload 2\n",
    "%matplotlib inline"
   ]
  },
  {
   "cell_type": "code",
   "execution_count": 2,
   "metadata": {
    "ExecuteTime": {
     "end_time": "2020-01-03T05:33:40.492692Z",
     "start_time": "2020-01-03T05:33:39.298114Z"
    }
   },
   "outputs": [],
   "source": [
    "from fastai.vision import *"
   ]
  },
  {
   "cell_type": "code",
   "execution_count": 3,
   "metadata": {
    "ExecuteTime": {
     "end_time": "2020-01-03T05:33:50.231141Z",
     "start_time": "2020-01-03T05:33:50.204732Z"
    }
   },
   "outputs": [],
   "source": [
    "classes = ['baroque', 'gothic', 'islamic', 'modernist', 'neoclassical', 'renaissance', 'romanesque', 'tudor', 'victorian']\n",
    "path = Path('data')"
   ]
  },
  {
   "cell_type": "code",
   "execution_count": 4,
   "metadata": {
    "ExecuteTime": {
     "end_time": "2020-01-03T05:33:53.468042Z",
     "start_time": "2020-01-03T05:33:53.448154Z"
    }
   },
   "outputs": [],
   "source": [
    "for c in classes:\n",
    "    path = Path('data')\n",
    "    dest = path/c\n",
    "    dest.mkdir(parents=True, exist_ok=True)"
   ]
  },
  {
   "cell_type": "code",
   "execution_count": 6,
   "metadata": {
    "ExecuteTime": {
     "end_time": "2020-01-03T05:35:58.628845Z",
     "start_time": "2020-01-03T05:34:30.581043Z"
    }
   },
   "outputs": [
    {
     "data": {
      "text/html": [],
      "text/plain": [
       "<IPython.core.display.HTML object>"
      ]
     },
     "metadata": {},
     "output_type": "display_data"
    },
    {
     "data": {
      "text/html": [],
      "text/plain": [
       "<IPython.core.display.HTML object>"
      ]
     },
     "metadata": {},
     "output_type": "display_data"
    },
    {
     "data": {
      "text/html": [],
      "text/plain": [
       "<IPython.core.display.HTML object>"
      ]
     },
     "metadata": {},
     "output_type": "display_data"
    },
    {
     "name": "stdout",
     "output_type": "stream",
     "text": [
      "Error https://imgv2-2-f.scribdassets.com/img/document/340119819/298x396/52fd484cc9/1487874994?v=1 HTTPSConnectionPool(host='imgv2-2-f.scribdassets.com', port=443): Read timed out. (read timeout=4)\n",
      "Error http://firooze-islam.ir/files/site1/modern01/main_en.png HTTPConnectionPool(host='firooze-islam.ir', port=80): Max retries exceeded with url: /files/site1/modern01/main_en.png (Caused by NewConnectionError('<urllib3.connection.HTTPConnection object at 0x7fc52a4d1208>: Failed to establish a new connection: [Errno -2] Name or service not known',))\n"
     ]
    },
    {
     "data": {
      "text/html": [],
      "text/plain": [
       "<IPython.core.display.HTML object>"
      ]
     },
     "metadata": {},
     "output_type": "display_data"
    },
    {
     "data": {
      "text/html": [],
      "text/plain": [
       "<IPython.core.display.HTML object>"
      ]
     },
     "metadata": {},
     "output_type": "display_data"
    },
    {
     "name": "stdout",
     "output_type": "stream",
     "text": [
      "Error x-raw-image:///0af2306e35af9ea6a8dbfbde391b462f4eca5068867184d40802a9e1b674f921 No connection adapters were found for 'x-raw-image:///0af2306e35af9ea6a8dbfbde391b462f4eca5068867184d40802a9e1b674f921'\n",
      "Error x-raw-image:///5e225033c9b8a16024206be4d4674d08ef40cf6ce808f25dc32994b137439fd4 No connection adapters were found for 'x-raw-image:///5e225033c9b8a16024206be4d4674d08ef40cf6ce808f25dc32994b137439fd4'\n",
      "Error x-raw-image:///89ed5e66014ab97eda24cd0e5f9f9e2d406efbe6bd2f4efd6d1aa2c2d1dc75a0 No connection adapters were found for 'x-raw-image:///89ed5e66014ab97eda24cd0e5f9f9e2d406efbe6bd2f4efd6d1aa2c2d1dc75a0'\n"
     ]
    },
    {
     "data": {
      "text/html": [],
      "text/plain": [
       "<IPython.core.display.HTML object>"
      ]
     },
     "metadata": {},
     "output_type": "display_data"
    },
    {
     "data": {
      "text/html": [],
      "text/plain": [
       "<IPython.core.display.HTML object>"
      ]
     },
     "metadata": {},
     "output_type": "display_data"
    },
    {
     "name": "stdout",
     "output_type": "stream",
     "text": [
      "Error x-raw-image:///4ed8210cf24d980519ab6bd51acdeb59cb0593050e069def43aa0214656e0c70 No connection adapters were found for 'x-raw-image:///4ed8210cf24d980519ab6bd51acdeb59cb0593050e069def43aa0214656e0c70'\n",
      "Error x-raw-image:///79ff790919d5a012fa8c5f6d7a912ff4a10891b806ccf071bba134843a9953e7 No connection adapters were found for 'x-raw-image:///79ff790919d5a012fa8c5f6d7a912ff4a10891b806ccf071bba134843a9953e7'\n",
      "Error x-raw-image:///dc6fa7dfe56e20709452a37be8429afa25ff64e0414e6425acb97d2ec0fd936f No connection adapters were found for 'x-raw-image:///dc6fa7dfe56e20709452a37be8429afa25ff64e0414e6425acb97d2ec0fd936f'\n"
     ]
    },
    {
     "data": {
      "text/html": [],
      "text/plain": [
       "<IPython.core.display.HTML object>"
      ]
     },
     "metadata": {},
     "output_type": "display_data"
    },
    {
     "name": "stdout",
     "output_type": "stream",
     "text": [
      "Error https://image.shutterstock.com/image-photo/exterior-tudor-revival-style-mock-600w-1097666456.jpg HTTPSConnectionPool(host='image.shutterstock.com', port=443): Read timed out. (read timeout=4)\n"
     ]
    },
    {
     "data": {
      "text/html": [],
      "text/plain": [
       "<IPython.core.display.HTML object>"
      ]
     },
     "metadata": {},
     "output_type": "display_data"
    }
   ],
   "source": [
    "for c in classes:\n",
    "    dest = path/c\n",
    "    file = 'urls_' + c + '.csv'\n",
    "    download_images(path/file, dest, max_pics=400)"
   ]
  },
  {
   "cell_type": "code",
   "execution_count": 7,
   "metadata": {
    "ExecuteTime": {
     "end_time": "2020-01-03T05:36:41.395660Z",
     "start_time": "2020-01-03T05:36:01.483897Z"
    }
   },
   "outputs": [
    {
     "name": "stdout",
     "output_type": "stream",
     "text": [
      "baroque\n"
     ]
    },
    {
     "data": {
      "text/html": [],
      "text/plain": [
       "<IPython.core.display.HTML object>"
      ]
     },
     "metadata": {},
     "output_type": "display_data"
    },
    {
     "name": "stdout",
     "output_type": "stream",
     "text": [
      "cannot identify image file <_io.BufferedReader name='data/baroque/00000061.jpg'>\n",
      "image file could not be identified because WEBP support not installed\n",
      "image file could not be identified because WEBP support not installed\n",
      "cannot identify image file <_io.BufferedReader name='data/baroque/00000026.jpg'>\n",
      "cannot identify image file <_io.BufferedReader name='data/baroque/00000193.jpg'>\n",
      "cannot identify image file <_io.BufferedReader name='data/baroque/00000079.jpg'>\n",
      "cannot identify image file <_io.BufferedReader name='data/baroque/00000158.jpg'>\n",
      "image file could not be identified because WEBP support not installed\n",
      "cannot identify image file <_io.BufferedReader name='data/baroque/00000161.png'>\n",
      "image file could not be identified because WEBP support not installed\n",
      "cannot identify image file <_io.BufferedReader name='data/baroque/00000128.jpg'>\n",
      "gothic\n"
     ]
    },
    {
     "data": {
      "text/html": [],
      "text/plain": [
       "<IPython.core.display.HTML object>"
      ]
     },
     "metadata": {},
     "output_type": "display_data"
    },
    {
     "name": "stdout",
     "output_type": "stream",
     "text": [
      "cannot identify image file <_io.BufferedReader name='data/gothic/00000009.jpg'>\n",
      "cannot identify image file <_io.BufferedReader name='data/gothic/00000189.jpg'>\n",
      "image file could not be identified because WEBP support not installed\n",
      "cannot identify image file <_io.BufferedReader name='data/gothic/00000000.jpg'>\n",
      "cannot identify image file <_io.BufferedReader name='data/gothic/00000027.jpg'>\n",
      "cannot identify image file <_io.BufferedReader name='data/gothic/00000176.jpg'>\n",
      "cannot identify image file <_io.BufferedReader name='data/gothic/00000157.jpg'>\n",
      "image file could not be identified because WEBP support not installed\n",
      "islamic\n"
     ]
    },
    {
     "data": {
      "text/html": [],
      "text/plain": [
       "<IPython.core.display.HTML object>"
      ]
     },
     "metadata": {},
     "output_type": "display_data"
    },
    {
     "name": "stdout",
     "output_type": "stream",
     "text": [
      "cannot identify image file <_io.BufferedReader name='data/islamic/00000118.jpg'>\n",
      "image file could not be identified because WEBP support not installed\n",
      "image file could not be identified because WEBP support not installed\n",
      "image file could not be identified because WEBP support not installed\n",
      "image file could not be identified because WEBP support not installed\n",
      "cannot identify image file <_io.BufferedReader name='data/islamic/00000115.jpg'>\n",
      "modernist\n"
     ]
    },
    {
     "data": {
      "text/html": [],
      "text/plain": [
       "<IPython.core.display.HTML object>"
      ]
     },
     "metadata": {},
     "output_type": "display_data"
    },
    {
     "name": "stdout",
     "output_type": "stream",
     "text": [
      "neoclassical\n"
     ]
    },
    {
     "data": {
      "text/html": [],
      "text/plain": [
       "<IPython.core.display.HTML object>"
      ]
     },
     "metadata": {},
     "output_type": "display_data"
    },
    {
     "name": "stdout",
     "output_type": "stream",
     "text": [
      "cannot identify image file <_io.BufferedReader name='data/neoclassical/00000044.jpg'>\n",
      "image file could not be identified because WEBP support not installed\n",
      "image file could not be identified because WEBP support not installed\n",
      "cannot identify image file <_io.BufferedReader name='data/neoclassical/00000082.jpg'>\n",
      "image file could not be identified because WEBP support not installed\n",
      "renaissance\n"
     ]
    },
    {
     "data": {
      "text/html": [],
      "text/plain": [
       "<IPython.core.display.HTML object>"
      ]
     },
     "metadata": {},
     "output_type": "display_data"
    },
    {
     "name": "stdout",
     "output_type": "stream",
     "text": [
      "cannot identify image file <_io.BufferedReader name='data/renaissance/00000112.jpg'>\n",
      "cannot identify image file <_io.BufferedReader name='data/renaissance/00000131.jpg'>\n",
      "cannot identify image file <_io.BufferedReader name='data/renaissance/00000059.jpg'>\n",
      "image file could not be identified because WEBP support not installed\n",
      "cannot identify image file <_io.BufferedReader name='data/renaissance/00000046.jpg'>\n",
      "cannot identify image file <_io.BufferedReader name='data/renaissance/00000050.jpg'>\n",
      "romanesque\n"
     ]
    },
    {
     "data": {
      "text/html": [],
      "text/plain": [
       "<IPython.core.display.HTML object>"
      ]
     },
     "metadata": {},
     "output_type": "display_data"
    },
    {
     "name": "stderr",
     "output_type": "stream",
     "text": [
      "/home/ubuntu/anaconda3/lib/python3.6/site-packages/PIL/Image.py:1044: UserWarning: Couldn't allocate palette entry for transparency\n",
      "  warnings.warn(\"Couldn't allocate palette entry for transparency\")\n"
     ]
    },
    {
     "name": "stdout",
     "output_type": "stream",
     "text": [
      "image file could not be identified because WEBP support not installed\n",
      "image file could not be identified because WEBP support not installed\n",
      "tudor\n"
     ]
    },
    {
     "data": {
      "text/html": [],
      "text/plain": [
       "<IPython.core.display.HTML object>"
      ]
     },
     "metadata": {},
     "output_type": "display_data"
    },
    {
     "name": "stdout",
     "output_type": "stream",
     "text": [
      "image file could not be identified because WEBP support not installed\n",
      "image file could not be identified because WEBP support not installed\n",
      "image file could not be identified because WEBP support not installed\n",
      "image file could not be identified because WEBP support not installed\n",
      "image file could not be identified because WEBP support not installed\n",
      "image file could not be identified because WEBP support not installed\n",
      "image file could not be identified because WEBP support not installed\n",
      "victorian\n"
     ]
    },
    {
     "data": {
      "text/html": [],
      "text/plain": [
       "<IPython.core.display.HTML object>"
      ]
     },
     "metadata": {},
     "output_type": "display_data"
    },
    {
     "name": "stdout",
     "output_type": "stream",
     "text": [
      "image file could not be identified because WEBP support not installed\n"
     ]
    },
    {
     "name": "stderr",
     "output_type": "stream",
     "text": [
      "/home/ubuntu/anaconda3/lib/python3.6/site-packages/PIL/Image.py:1044: UserWarning: Couldn't allocate palette entry for transparency\n",
      "  warnings.warn(\"Couldn't allocate palette entry for transparency\")\n"
     ]
    },
    {
     "name": "stdout",
     "output_type": "stream",
     "text": [
      "image file could not be identified because WEBP support not installed\n",
      "image file could not be identified because WEBP support not installed\n",
      "image file could not be identified because WEBP support not installed\n",
      "image file could not be identified because WEBP support not installed\n",
      "cannot identify image file <_io.BufferedReader name='data/victorian/00000058.jpg'>\n"
     ]
    }
   ],
   "source": [
    "for c in classes:\n",
    "    print(c)\n",
    "    verify_images(path/c, delete=True, max_size=500)"
   ]
  },
  {
   "cell_type": "code",
   "execution_count": null,
   "metadata": {},
   "outputs": [],
   "source": []
  }
 ],
 "metadata": {
  "kernelspec": {
   "display_name": "Python 3",
   "language": "python",
   "name": "python3"
  },
  "language_info": {
   "codemirror_mode": {
    "name": "ipython",
    "version": 3
   },
   "file_extension": ".py",
   "mimetype": "text/x-python",
   "name": "python",
   "nbconvert_exporter": "python",
   "pygments_lexer": "ipython3",
   "version": "3.6.6"
  },
  "toc": {
   "base_numbering": 1,
   "nav_menu": {},
   "number_sections": true,
   "sideBar": true,
   "skip_h1_title": false,
   "title_cell": "Table of Contents",
   "title_sidebar": "Contents",
   "toc_cell": false,
   "toc_position": {},
   "toc_section_display": true,
   "toc_window_display": false
  },
  "varInspector": {
   "cols": {
    "lenName": 16,
    "lenType": 16,
    "lenVar": 40
   },
   "kernels_config": {
    "python": {
     "delete_cmd_postfix": "",
     "delete_cmd_prefix": "del ",
     "library": "var_list.py",
     "varRefreshCmd": "print(var_dic_list())"
    },
    "r": {
     "delete_cmd_postfix": ") ",
     "delete_cmd_prefix": "rm(",
     "library": "var_list.r",
     "varRefreshCmd": "cat(var_dic_list()) "
    }
   },
   "types_to_exclude": [
    "module",
    "function",
    "builtin_function_or_method",
    "instance",
    "_Feature"
   ],
   "window_display": false
  }
 },
 "nbformat": 4,
 "nbformat_minor": 2
}
